{
  "nbformat": 4,
  "nbformat_minor": 0,
  "metadata": {
    "colab": {
      "provenance": []
    },
    "kernelspec": {
      "name": "python3",
      "display_name": "Python 3"
    },
    "language_info": {
      "name": "python"
    }
  },
  "cells": [
    {
      "cell_type": "code",
      "execution_count": 1,
      "metadata": {
        "colab": {
          "base_uri": "https://localhost:8080/"
        },
        "id": "w9Z_BhbqW-55",
        "outputId": "ab9362d6-675b-464e-8644-5bdd8f9f7af0"
      },
      "outputs": [
        {
          "output_type": "stream",
          "name": "stdout",
          "text": [
            "[23, 22, 21, 24, 13, 12, 11, 14, 3, 2]\n"
          ]
        }
      ],
      "source": [
        "#some random clasters to check if functions work\n",
        "\n",
        "claster0 = {'c' : 1,\n",
        "           'b' : 2,\n",
        "           'a' : 3,\n",
        "           'd' : 4}\n",
        "\n",
        "claster10 = {'c' : 11,\n",
        "           'b' : 12,\n",
        "           'a' : 13,\n",
        "           'd' : 14}\n",
        "\n",
        "\n",
        "claster20 = {'c' : 21,\n",
        "           'b' : 22,\n",
        "           'a' : 23,\n",
        "           'd' : 24}\n",
        "\n",
        "claster30 = {'c' : 31,\n",
        "           'b' : 32,\n",
        "           'a' : 33,\n",
        "           'd' : 34}\n",
        "\n",
        "claster1 = {'g' : claster0,\n",
        "            'f' : claster10,\n",
        "            'e' : claster20}\n",
        "\n",
        "claster2 = {'h' : claster1,\n",
        "            'i' : claster1}\n",
        "\n",
        "\n",
        "# function to sort cluster alphabeticly by key\n",
        "def similarity1(compound1, compound2):\n",
        "    return ord(compound1)\n",
        "\n",
        "#creates a lists of keys and clasters for sorting by key\n",
        "def dict_to_list(dict):\n",
        "    keys = dict.keys()\n",
        "    dict_list = []\n",
        "    for key in keys:\n",
        "        dict_list.append({'key' : key, 'claster': dict[key]})\n",
        "    return dict_list\n",
        "\n",
        "\n",
        "\n",
        "#gets n most similar compunds to given compunds with given similarity function\n",
        "def get_similar_compounds(compound, claster, similarity_func, n):\n",
        "    if False == isinstance(claster,dict):\n",
        "        return [claster]\n",
        "    claster_list = dict_to_list(claster)\n",
        "    def sorting_func(a):\n",
        "        return similarity_func(a['key'], compound)\n",
        "    claster_list.sort(key = sorting_func)\n",
        "    n_remain = n\n",
        "    compound_list = []\n",
        "    for i in claster_list:\n",
        "        new_compounds = get_similar_compounds(compound, i['claster'], similarity_func, n_remain)\n",
        "        n_remain -= len(new_compounds)\n",
        "        compound_list += new_compounds\n",
        "        if n_remain<=0:\n",
        "            return compound_list\n",
        "\n",
        "    return compound_list\n",
        "\n",
        "print(get_similar_compounds('a', claster2, similarity1, 10))\n",
        "#chyba działa dobrze\n"
      ]
    }
  ]
}